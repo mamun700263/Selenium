{
 "cells": [
  {
   "cell_type": "markdown",
   "metadata": {},
   "source": [
    "Import packages"
   ]
  },
  {
   "cell_type": "code",
   "execution_count": null,
   "metadata": {},
   "outputs": [],
   "source": [
    "import time, random\n",
    "import undetected_chromedriver as uc \n",
    "from selenium.webdriver.common.by import By\n",
    "from selenium.webdriver import ChromeOptions\n",
    "from selenium.webdriver.common.keys import Keys"
   ]
  },
  {
   "cell_type": "markdown",
   "metadata": {},
   "source": [
    "Creater useragens"
   ]
  },
  {
   "cell_type": "markdown",
   "metadata": {},
   "source": [
    "Start the browser with stronger options"
   ]
  },
  {
   "cell_type": "code",
   "execution_count": 36,
   "metadata": {},
   "outputs": [],
   "source": [
    "def get_uc_driver():\n",
    "    user_agents = [\n",
    "        \"Mozilla/5.0 (Windows NT 10.0; Win64; x64) AppleWebKit/537.36 (KHTML, like Gecko) Chrome/122.0.0.0 Safari/537.36\",\n",
    "        \"Mozilla/5.0 (Windows NT 10.0; Win64; x64; rv:120.0) Gecko/20100101 Firefox/120.0\",\n",
    "        \"Mozilla/5.0 (Windows NT 10.0; Win64; x64) AppleWebKit/537.36 (KHTML, like Gecko) Edge/122.0.0.0 Safari/537.36\",\n",
    "        \"Mozilla/5.0 (Macintosh; Intel Mac OS X 10_15_7) AppleWebKit/537.36 (KHTML, like Gecko) Chrome/122.0.0.0 Safari/537.36\",\n",
    "        \"Mozilla/5.0 (Macintosh; Intel Mac OS X 10_15_7) AppleWebKit/537.36 (KHTML, like Gecko) Firefox/120.0 Safari/537.36\",\n",
    "        \"Mozilla/5.0 (X11; Linux x86_64) AppleWebKit/537.36 (KHTML, like Gecko) Chrome/122.0.0.0 Safari/537.36\",\n",
    "        \"Mozilla/5.0 (X11; Linux x86_64; rv:120.0) Gecko/20100101 Firefox/120.0\",\n",
    "        \"Mozilla/5.0 (Linux; Android 14; SM-S918B) AppleWebKit/537.36 (KHTML, like Gecko) Chrome/122.0.0.0 Mobile Safari/537.36\",\n",
    "        \"Mozilla/5.0 (Linux; Android 13; Pixel 7 Pro) AppleWebKit/537.36 (KHTML, like Gecko) Chrome/122.0.0.0 Mobile Safari/537.36\",\n",
    "        \"Mozilla/5.0 (Linux; Android 12; SM-G991B) AppleWebKit/537.36 (KHTML, like Gecko) Chrome/120.0.0.0 Mobile Safari/537.36\",\n",
    "        \"Mozilla/5.0 (Android 13; Mobile; rv:120.0) Gecko/120.0 Firefox/120.0\",\n",
    "        \"Mozilla/5.0 (iPhone; CPU iPhone OS 17_0 like Mac OS X) AppleWebKit/537.36 (KHTML, like Gecko) Version/17.0 Mobile/15E148 Safari/537.36\",\n",
    "        \"Mozilla/5.0 (iPhone; CPU iPhone OS 16_5 like Mac OS X) AppleWebKit/537.36 (KHTML, like Gecko) CriOS/120.0.0.0 Mobile/15E148 Safari/537.36\",\n",
    "        \"Mozilla/5.0 (iPad; CPU OS 16_1 like Mac OS X) AppleWebKit/537.36 (KHTML, like Gecko) Version/16.1 Mobile/15E148 Safari/537.36\"\n",
    "    ]\n",
    "\n",
    "    random_user_agent = random.choice(user_agents)\n",
    "    # === 🚀 Powerful Chrome Options for Stealth ===\n",
    "    options = uc.ChromeOptions()\n",
    "\n",
    "    # 🛡️ Anti-Detection Features\n",
    "    options.add_argument(\"--no-sandbox\")  # Bypass OS security model\n",
    "    options.add_argument(\"--disable-blink-features=AutomationControlled\")  # Hide automation\n",
    "    options.add_argument(\"--disable-dev-shm-usage\")  # Prevent crashes in Docker/VMs\n",
    "    options.add_argument(\"--disable-infobars\")  # Remove \"Chrome is being controlled\" message\n",
    "    options.add_argument(\"--remote-debugging-port=9222\")  # Allow debugging\n",
    "    options.add_argument(\"--disable-popup-blocking\")  # Ensure no pop-ups are blocked\n",
    "\n",
    "    # # 🎭 Appear More Human\n",
    "    options.add_argument(\"--start-maximized\")  # Open in fullscreen\n",
    "\n",
    "    # 🌍 Use a Real User-Agent to Blend In\n",
    "    options.add_argument(f\"--user-agent={random_user_agent}\")\n",
    "    driver = uc.Chrome(options=options)\n",
    "    return driver\n",
    "\n"
   ]
  },
  {
   "cell_type": "code",
   "execution_count": 37,
   "metadata": {},
   "outputs": [],
   "source": [
    "def wait():\n",
    "    x =  random.uniform(2, 8) \n",
    "    time.sleep(x)\n",
    "\n"
   ]
  },
  {
   "cell_type": "markdown",
   "metadata": {},
   "source": [
    "## Start the browser"
   ]
  },
  {
   "cell_type": "code",
   "execution_count": 38,
   "metadata": {},
   "outputs": [],
   "source": [
    "driver = get_uc_driver()\n",
    "url  = \"https://www.linkedin.com/jobs/search?keywords=&location=Bangladesh&geoId=106215326&trk=public_jobs_jobs-search-bar_search-submit\"\n",
    "driver.get(url)\n"
   ]
  },
  {
   "cell_type": "code",
   "execution_count": 39,
   "metadata": {},
   "outputs": [
    {
     "name": "stdout",
     "output_type": "stream",
     "text": [
      "Message: no such element: Unable to locate element: {\"method\":\"xpath\",\"selector\":\"//icon[@class=\"contextual-sign-in-modal__modal-dismiss-icon lazy-loaded\"]\"}\n",
      "  (Session info: chrome=134.0.6998.117); For documentation on this error, please visit: https://www.selenium.dev/documentation/webdriver/troubleshooting/errors#no-such-element-exception\n",
      "Stacktrace:\n",
      "#0 0x65202541effa <unknown>\n",
      "#1 0x652024edd970 <unknown>\n",
      "#2 0x652024f2f385 <unknown>\n",
      "#3 0x652024f2f5b1 <unknown>\n",
      "#4 0x652024f7e3c4 <unknown>\n",
      "#5 0x652024f552bd <unknown>\n",
      "#6 0x652024f7b70c <unknown>\n",
      "#7 0x652024f55063 <unknown>\n",
      "#8 0x652024f21328 <unknown>\n",
      "#9 0x652024f22491 <unknown>\n",
      "#10 0x6520253e642b <unknown>\n",
      "#11 0x6520253ea2ec <unknown>\n",
      "#12 0x6520253cda22 <unknown>\n",
      "#13 0x6520253eae64 <unknown>\n",
      "#14 0x6520253b1bef <unknown>\n",
      "#15 0x65202540d558 <unknown>\n",
      "#16 0x65202540d736 <unknown>\n",
      "#17 0x65202541de76 <unknown>\n",
      "#18 0x7918c329caa4 <unknown>\n",
      "#19 0x7918c3329c3c <unknown>\n",
      "\n"
     ]
    }
   ],
   "source": [
    "wait()\n",
    "try:\n",
    "    svg = driver.find_element(By.XPATH,'//icon[@class=\"contextual-sign-in-modal__modal-dismiss-icon lazy-loaded\"]')\n",
    "    svg.click()\n",
    "except Exception as e:\n",
    "    print(e)\n",
    "    pass"
   ]
  },
  {
   "cell_type": "code",
   "execution_count": 40,
   "metadata": {},
   "outputs": [],
   "source": [
    "def search_job(job_name):\n",
    "    try:\n",
    "        search = driver.find_element(By.XPATH,'//input[@id=\"job-search-bar-keywords\"]')\n",
    "        search.clear()\n",
    "        search.send_keys(\"web scrapign\")\n",
    "        search.send_keys(Keys.ENTER)\n",
    "    except Exception as e:\n",
    "        print(e)\n"
   ]
  },
  {
   "cell_type": "code",
   "execution_count": 41,
   "metadata": {},
   "outputs": [
    {
     "name": "stdout",
     "output_type": "stream",
     "text": [
      "Message: no such element: Unable to locate element: {\"method\":\"xpath\",\"selector\":\"//input[@id=\"job-search-bar-keywords\"]\"}\n",
      "  (Session info: chrome=134.0.6998.117); For documentation on this error, please visit: https://www.selenium.dev/documentation/webdriver/troubleshooting/errors#no-such-element-exception\n",
      "Stacktrace:\n",
      "#0 0x65202541effa <unknown>\n",
      "#1 0x652024edd970 <unknown>\n",
      "#2 0x652024f2f385 <unknown>\n",
      "#3 0x652024f2f5b1 <unknown>\n",
      "#4 0x652024f7e3c4 <unknown>\n",
      "#5 0x652024f552bd <unknown>\n",
      "#6 0x652024f7b70c <unknown>\n",
      "#7 0x652024f55063 <unknown>\n",
      "#8 0x652024f21328 <unknown>\n",
      "#9 0x652024f22491 <unknown>\n",
      "#10 0x6520253e642b <unknown>\n",
      "#11 0x6520253ea2ec <unknown>\n",
      "#12 0x6520253cda22 <unknown>\n",
      "#13 0x6520253eae64 <unknown>\n",
      "#14 0x6520253b1bef <unknown>\n",
      "#15 0x65202540d558 <unknown>\n",
      "#16 0x65202540d736 <unknown>\n",
      "#17 0x65202541de76 <unknown>\n",
      "#18 0x7918c329caa4 <unknown>\n",
      "#19 0x7918c3329c3c <unknown>\n",
      "\n"
     ]
    }
   ],
   "source": [
    "search_job(\"software\")"
   ]
  },
  {
   "cell_type": "code",
   "execution_count": null,
   "metadata": {},
   "outputs": [],
   "source": []
  }
 ],
 "metadata": {
  "kernelspec": {
   "display_name": "venv",
   "language": "python",
   "name": "python3"
  },
  "language_info": {
   "codemirror_mode": {
    "name": "ipython",
    "version": 3
   },
   "file_extension": ".py",
   "mimetype": "text/x-python",
   "name": "python",
   "nbconvert_exporter": "python",
   "pygments_lexer": "ipython3",
   "version": "3.12.3"
  }
 },
 "nbformat": 4,
 "nbformat_minor": 2
}
