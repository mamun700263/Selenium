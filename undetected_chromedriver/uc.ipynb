{
 "cells": [
  {
   "cell_type": "markdown",
   "metadata": {},
   "source": [
    "### Import necessacy file"
   ]
  },
  {
   "cell_type": "code",
   "execution_count": 2,
   "metadata": {},
   "outputs": [],
   "source": [
    "import time  # Adds delays to mimic human behavior\n",
    "import random  # Generates random time delays for anti-bot detection    \n",
    "from selenium.webdriver.common.by import By  # Locates elements on the page\n",
    "import undetected_chromedriver as uc  # Makes Selenium harder to detect\n",
    "from selenium.webdriver.common.keys import Keys"
   ]
  },
  {
   "cell_type": "code",
   "execution_count": 3,
   "metadata": {},
   "outputs": [],
   "source": [
    "driver = uc.Chrome()"
   ]
  },
  {
   "cell_type": "code",
   "execution_count": 4,
   "metadata": {
    "vscode": {
     "languageId": "perl"
    }
   },
   "outputs": [],
   "source": [
    "url = \"https://www.google.com/\"\n",
    "driver.get(url)"
   ]
  },
  {
   "cell_type": "code",
   "execution_count": 5,
   "metadata": {},
   "outputs": [],
   "source": [
    "search_box = driver.find_element(By.XPATH,'//textarea[@name=\"q\"]')"
   ]
  },
  {
   "cell_type": "code",
   "execution_count": 6,
   "metadata": {},
   "outputs": [],
   "source": [
    "search_box.clear()\n",
    "search_box.send_keys(\"Bangladesh vs India Football match today\")\n",
    "search_box.send_keys(Keys.ENTER)"
   ]
  },
  {
   "cell_type": "code",
   "execution_count": 8,
   "metadata": {},
   "outputs": [
    {
     "name": "stdout",
     "output_type": "stream",
     "text": [
      "IND v BAN Highlights, AFC Asian Cup qualifier - Sportstar\n",
      "India vs Bangladesh live score, H2H and lineups\n",
      "\n",
      "\n",
      "India vs Bangladesh Highlights, AFC Asian Cup Qualifiers ...\n",
      "India 0 - 0 Bangladesh: Chhetri, Hamza hype fizzles out in ...\n",
      "India vs Bangladesh Live\n",
      "India held by Bangladesh to goalless draw in AFC Asian Cup ...\n",
      "India 0-0 Bangladesh (25 Mar, 2025) Final Score\n"
     ]
    }
   ],
   "source": [
    "head_lines = driver.find_elements(By.TAG_NAME,'h3')\n",
    "\n",
    "for head_line in head_lines:\n",
    "    if head_line is not None:\n",
    "        print(head_line.text)"
   ]
  },
  {
   "cell_type": "code",
   "execution_count": 10,
   "metadata": {},
   "outputs": [],
   "source": [
    "d  = uc.Chrome()\n",
    "\n",
    "d.get(\"https://bot.sannysoft.com/\")"
   ]
  },
  {
   "cell_type": "code",
   "execution_count": null,
   "metadata": {},
   "outputs": [],
   "source": []
  }
 ],
 "metadata": {
  "kernelspec": {
   "display_name": "venv",
   "language": "python",
   "name": "python3"
  },
  "language_info": {
   "codemirror_mode": {
    "name": "ipython",
    "version": 3
   },
   "file_extension": ".py",
   "mimetype": "text/x-python",
   "name": "python",
   "nbconvert_exporter": "python",
   "pygments_lexer": "ipython3",
   "version": "3.12.3"
  }
 },
 "nbformat": 4,
 "nbformat_minor": 2
}
